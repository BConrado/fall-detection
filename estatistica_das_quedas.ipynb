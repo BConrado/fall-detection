{
 "cells": [
  {
   "cell_type": "code",
   "execution_count": 1,
   "metadata": {},
   "outputs": [
    {
     "name": "stderr",
     "output_type": "stream",
     "text": [
      "/opt/conda/lib/python3.6/importlib/_bootstrap.py:219: RuntimeWarning: numpy.dtype size changed, may indicate binary incompatibility. Expected 96, got 88\n",
      "  return f(*args, **kwds)\n"
     ]
    }
   ],
   "source": [
    "import pandas as pd\n",
    "\n",
    "quedas_evol = pd.read_csv('evol_quedas_semnomes.csv.gz', compression='gzip')"
   ]
  },
  {
   "cell_type": "code",
   "execution_count": 2,
   "metadata": {},
   "outputs": [
    {
     "data": {
      "text/plain": [
       "(Index(['Unnamed: 0', 'Unnamed: 0.1', 'Unnamed: 0.1.1', 'REG. PACIENTE',\n",
       "        'DATA EVOL', 'DADOS DA EVOLUÇÃO', 'date', 'UH', 'Reg.Paciente',\n",
       "        'Data Queda', 'Hora', 'Gênero', 'Idade', 'Resumo',\n",
       "        'Houve dano ao paciente?', 'Necessitou de avaliação médica',\n",
       "        'Foi necessário algum procedimento', 'Qual?',\n",
       "        'Condições do paciente antes da queda', 'Risco do meio ambiente',\n",
       "        'Local da queda', 'Outro setor:Qual?',\n",
       "        'Se foi na unidade de internação.Qual local?',\n",
       "        'Fator desencadeante da queda'],\n",
       "       dtype='object'), (4897, 24))"
      ]
     },
     "execution_count": 2,
     "metadata": {},
     "output_type": "execute_result"
    }
   ],
   "source": [
    "quedas_evol.columns, quedas_evol.shape"
   ]
  },
  {
   "cell_type": "code",
   "execution_count": 3,
   "metadata": {},
   "outputs": [
    {
     "data": {
      "text/plain": [
       "1971"
      ]
     },
     "execution_count": 3,
     "metadata": {},
     "output_type": "execute_result"
    }
   ],
   "source": [
    "len(quedas_evol[['Data Queda','Reg.Paciente','Unnamed: 0']].groupby(['Data Queda','Reg.Paciente']).count())"
   ]
  },
  {
   "cell_type": "code",
   "execution_count": 4,
   "metadata": {},
   "outputs": [
    {
     "data": {
      "text/plain": [
       "4897"
      ]
     },
     "execution_count": 4,
     "metadata": {},
     "output_type": "execute_result"
    }
   ],
   "source": [
    "len(quedas_evol)"
   ]
  },
  {
   "cell_type": "code",
   "execution_count": null,
   "metadata": {},
   "outputs": [],
   "source": []
  }
 ],
 "metadata": {
  "kernelspec": {
   "display_name": "Python 3",
   "language": "python",
   "name": "python3"
  },
  "language_info": {
   "codemirror_mode": {
    "name": "ipython",
    "version": 3
   },
   "file_extension": ".py",
   "mimetype": "text/x-python",
   "name": "python",
   "nbconvert_exporter": "python",
   "pygments_lexer": "ipython3",
   "version": "3.6.5"
  }
 },
 "nbformat": 4,
 "nbformat_minor": 2
}
